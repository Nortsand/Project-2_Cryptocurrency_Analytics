{
 "cells": [
  {
   "cell_type": "code",
   "execution_count": 78,
   "metadata": {},
   "outputs": [],
   "source": [
    "# Importamos las librerías necesarias\n",
    "import pandas as pd\n",
    "import numpy as np\n",
    "from pycoingecko import CoinGeckoAPI \n",
    "import os\n",
    "import json"
   ]
  },
  {
   "cell_type": "code",
   "execution_count": 79,
   "metadata": {},
   "outputs": [],
   "source": [
    "# binanceoin, bitcoin, cardano, chainlink, ethereum, ripple, stellar, tether, litecoin, usd-coin. "
   ]
  },
  {
   "cell_type": "markdown",
   "metadata": {},
   "source": [
    "#### Extraemos la data desde la API de CoinGecko"
   ]
  },
  {
   "cell_type": "code",
   "execution_count": 80,
   "metadata": {},
   "outputs": [
    {
     "name": "stdout",
     "output_type": "stream",
     "text": [
      "Datos de binancecoin guardados en data\\binancecoin.json\n",
      "Datos de bitcoin guardados en data\\bitcoin.json\n",
      "Datos de cardano guardados en data\\cardano.json\n",
      "Datos de chainlink guardados en data\\chainlink.json\n",
      "Datos de ethereum guardados en data\\ethereum.json\n",
      "Datos de ripple guardados en data\\ripple.json\n",
      "Datos de stellar guardados en data\\stellar.json\n",
      "Datos de tether guardados en data\\tether.json\n",
      "Datos de litecoin guardados en data\\litecoin.json\n",
      "Datos de usd-coin guardados en data\\usd-coin.json\n"
     ]
    }
   ],
   "source": [
    "# Creamos una instancia de CoinGeckoAPI\n",
    "cg = CoinGeckoAPI()\n",
    "\n",
    "# Lista de IDs de las criptomonedas previamente seleccionadas\n",
    "crypto_ids = ['binancecoin', 'bitcoin', 'cardano', 'chainlink', 'ethereum', 'ripple', 'stellar', 'tether', 'litecoin', 'usd-coin']\n",
    "\n",
    "# Configuramos parámetros del endpoint\n",
    "vs_currency = 'usd'\n",
    "days = 1826\n",
    "interval = 'daily'\n",
    "precision = 2\n",
    "\n",
    "# Directorio para guardar los archivos JSON\n",
    "output_dir = 'data'\n",
    "\n",
    "# Usamos la función get_coin_market_chart_by_id para descargar y guardar los datos para cada criptomoneda en la carpeta \"data\".\n",
    "# El nombre de cada archivo será su id\n",
    "for crypto_id in crypto_ids:\n",
    "    data = cg.get_coin_market_chart_by_id(id=crypto_id, vs_currency=vs_currency, days=days)\n",
    "    filename = os.path.join(output_dir, f'{crypto_id}.json')\n",
    "    with open(filename, 'w') as f:\n",
    "        json.dump(data, f)\n",
    "    print(f'Datos de {crypto_id} guardados en {filename}')"
   ]
  },
  {
   "cell_type": "code",
   "execution_count": 81,
   "metadata": {},
   "outputs": [
    {
     "name": "stdout",
     "output_type": "stream",
     "text": [
      "<class 'pandas.core.frame.DataFrame'>\n",
      "RangeIndex: 1827 entries, 0 to 1826\n",
      "Data columns (total 3 columns):\n",
      " #   Column         Non-Null Count  Dtype \n",
      "---  ------         --------------  ----- \n",
      " 0   prices         1827 non-null   object\n",
      " 1   market_caps    1827 non-null   object\n",
      " 2   total_volumes  1827 non-null   object\n",
      "dtypes: object(3)\n",
      "memory usage: 42.9+ KB\n"
     ]
    }
   ],
   "source": [
    "json_data = 'data/bitcoin.json'  \n",
    "bitcoin = pd.read_json(json_data)\n",
    "bitcoin.info()"
   ]
  },
  {
   "cell_type": "code",
   "execution_count": 82,
   "metadata": {},
   "outputs": [
    {
     "name": "stdout",
     "output_type": "stream",
     "text": [
      "<class 'pandas.core.frame.DataFrame'>\n",
      "RangeIndex: 1827 entries, 0 to 1826\n",
      "Data columns (total 3 columns):\n",
      " #   Column         Non-Null Count  Dtype \n",
      "---  ------         --------------  ----- \n",
      " 0   prices         1827 non-null   object\n",
      " 1   market_caps    1827 non-null   object\n",
      " 2   total_volumes  1827 non-null   object\n",
      "dtypes: object(3)\n",
      "memory usage: 42.9+ KB\n"
     ]
    }
   ],
   "source": [
    "json_data = 'data/binancecoin.json'  \n",
    "binancecoin = pd.read_json(json_data)\n",
    "binancecoin.info()"
   ]
  },
  {
   "cell_type": "code",
   "execution_count": 83,
   "metadata": {},
   "outputs": [
    {
     "name": "stdout",
     "output_type": "stream",
     "text": [
      "<class 'pandas.core.frame.DataFrame'>\n",
      "RangeIndex: 1827 entries, 0 to 1826\n",
      "Data columns (total 3 columns):\n",
      " #   Column         Non-Null Count  Dtype \n",
      "---  ------         --------------  ----- \n",
      " 0   prices         1827 non-null   object\n",
      " 1   market_caps    1827 non-null   object\n",
      " 2   total_volumes  1827 non-null   object\n",
      "dtypes: object(3)\n",
      "memory usage: 42.9+ KB\n"
     ]
    }
   ],
   "source": [
    "json_data = 'data/cardano.json'  \n",
    "cardano = pd.read_json(json_data)\n",
    "cardano.info()"
   ]
  },
  {
   "cell_type": "code",
   "execution_count": 84,
   "metadata": {},
   "outputs": [
    {
     "name": "stdout",
     "output_type": "stream",
     "text": [
      "<class 'pandas.core.frame.DataFrame'>\n",
      "RangeIndex: 1827 entries, 0 to 1826\n",
      "Data columns (total 3 columns):\n",
      " #   Column         Non-Null Count  Dtype \n",
      "---  ------         --------------  ----- \n",
      " 0   prices         1827 non-null   object\n",
      " 1   market_caps    1827 non-null   object\n",
      " 2   total_volumes  1827 non-null   object\n",
      "dtypes: object(3)\n",
      "memory usage: 42.9+ KB\n"
     ]
    }
   ],
   "source": [
    "json_data = 'data/ethereum.json'  \n",
    "ethereum = pd.read_json(json_data)\n",
    "ethereum.info()"
   ]
  },
  {
   "cell_type": "code",
   "execution_count": 85,
   "metadata": {},
   "outputs": [
    {
     "name": "stdout",
     "output_type": "stream",
     "text": [
      "<class 'pandas.core.frame.DataFrame'>\n",
      "RangeIndex: 1827 entries, 0 to 1826\n",
      "Data columns (total 3 columns):\n",
      " #   Column         Non-Null Count  Dtype \n",
      "---  ------         --------------  ----- \n",
      " 0   prices         1827 non-null   object\n",
      " 1   market_caps    1827 non-null   object\n",
      " 2   total_volumes  1827 non-null   object\n",
      "dtypes: object(3)\n",
      "memory usage: 42.9+ KB\n"
     ]
    }
   ],
   "source": [
    "json_data = 'data/chainlink.json'  \n",
    "chainlink = pd.read_json(json_data)\n",
    "chainlink.info()"
   ]
  },
  {
   "cell_type": "code",
   "execution_count": 86,
   "metadata": {},
   "outputs": [
    {
     "name": "stdout",
     "output_type": "stream",
     "text": [
      "<class 'pandas.core.frame.DataFrame'>\n",
      "RangeIndex: 1827 entries, 0 to 1826\n",
      "Data columns (total 3 columns):\n",
      " #   Column         Non-Null Count  Dtype \n",
      "---  ------         --------------  ----- \n",
      " 0   prices         1827 non-null   object\n",
      " 1   market_caps    1827 non-null   object\n",
      " 2   total_volumes  1827 non-null   object\n",
      "dtypes: object(3)\n",
      "memory usage: 42.9+ KB\n"
     ]
    }
   ],
   "source": [
    "json_data = 'data/litecoin.json'  \n",
    "litecoin = pd.read_json(json_data)\n",
    "litecoin.info()"
   ]
  },
  {
   "cell_type": "code",
   "execution_count": 87,
   "metadata": {},
   "outputs": [
    {
     "name": "stdout",
     "output_type": "stream",
     "text": [
      "<class 'pandas.core.frame.DataFrame'>\n",
      "RangeIndex: 1827 entries, 0 to 1826\n",
      "Data columns (total 3 columns):\n",
      " #   Column         Non-Null Count  Dtype \n",
      "---  ------         --------------  ----- \n",
      " 0   prices         1827 non-null   object\n",
      " 1   market_caps    1827 non-null   object\n",
      " 2   total_volumes  1827 non-null   object\n",
      "dtypes: object(3)\n",
      "memory usage: 42.9+ KB\n"
     ]
    }
   ],
   "source": [
    "json_data = 'data/ripple.json'  \n",
    "ripple = pd.read_json(json_data)\n",
    "ripple.info()"
   ]
  },
  {
   "cell_type": "code",
   "execution_count": 88,
   "metadata": {},
   "outputs": [
    {
     "name": "stdout",
     "output_type": "stream",
     "text": [
      "<class 'pandas.core.frame.DataFrame'>\n",
      "RangeIndex: 1827 entries, 0 to 1826\n",
      "Data columns (total 3 columns):\n",
      " #   Column         Non-Null Count  Dtype \n",
      "---  ------         --------------  ----- \n",
      " 0   prices         1827 non-null   object\n",
      " 1   market_caps    1827 non-null   object\n",
      " 2   total_volumes  1827 non-null   object\n",
      "dtypes: object(3)\n",
      "memory usage: 42.9+ KB\n"
     ]
    }
   ],
   "source": [
    "json_data = 'data/stellar.json'  \n",
    "stellar = pd.read_json(json_data)\n",
    "stellar.info()"
   ]
  },
  {
   "cell_type": "code",
   "execution_count": 89,
   "metadata": {},
   "outputs": [
    {
     "name": "stdout",
     "output_type": "stream",
     "text": [
      "<class 'pandas.core.frame.DataFrame'>\n",
      "RangeIndex: 1826 entries, 0 to 1825\n",
      "Data columns (total 3 columns):\n",
      " #   Column         Non-Null Count  Dtype \n",
      "---  ------         --------------  ----- \n",
      " 0   prices         1826 non-null   object\n",
      " 1   market_caps    1826 non-null   object\n",
      " 2   total_volumes  1826 non-null   object\n",
      "dtypes: object(3)\n",
      "memory usage: 42.9+ KB\n"
     ]
    }
   ],
   "source": [
    "json_data = 'data/tether.json'  \n",
    "tether = pd.read_json(json_data)\n",
    "tether.info()"
   ]
  },
  {
   "cell_type": "code",
   "execution_count": 90,
   "metadata": {},
   "outputs": [
    {
     "name": "stdout",
     "output_type": "stream",
     "text": [
      "<class 'pandas.core.frame.DataFrame'>\n",
      "RangeIndex: 1777 entries, 0 to 1776\n",
      "Data columns (total 3 columns):\n",
      " #   Column         Non-Null Count  Dtype \n",
      "---  ------         --------------  ----- \n",
      " 0   prices         1777 non-null   object\n",
      " 1   market_caps    1777 non-null   object\n",
      " 2   total_volumes  1777 non-null   object\n",
      "dtypes: object(3)\n",
      "memory usage: 41.8+ KB\n"
     ]
    }
   ],
   "source": [
    "json_data = 'data/usd-coin.json'  \n",
    "usdcoin = pd.read_json(json_data)\n",
    "usdcoin.info()"
   ]
  },
  {
   "cell_type": "markdown",
   "metadata": {},
   "source": [
    "Como observamos, todos los archivos tienen la misma estructura y número de registros. El único que difiere es el de usdcoin que tiene menos registros y la columna de market_caps aparece sin datos. "
   ]
  },
  {
   "cell_type": "code",
   "execution_count": 91,
   "metadata": {},
   "outputs": [
    {
     "data": {
      "text/plain": [
       "('binancecoin',\n",
       " 'bitcoin',\n",
       " 'cardano',\n",
       " 'chainlink',\n",
       " 'ethereum',\n",
       " 'ripple',\n",
       " 'stellar',\n",
       " 'tether',\n",
       " 'litecoin',\n",
       " 'usd-coin')"
      ]
     },
     "execution_count": 91,
     "metadata": {},
     "output_type": "execute_result"
    }
   ],
   "source": [
    "'binancecoin', 'bitcoin', 'cardano', 'chainlink', 'ethereum', 'ripple', 'stellar', 'tether', 'litecoin', 'usd-coin'"
   ]
  },
  {
   "cell_type": "markdown",
   "metadata": {},
   "source": [
    "#### Transformaciones y limpieza"
   ]
  },
  {
   "cell_type": "code",
   "execution_count": 92,
   "metadata": {},
   "outputs": [
    {
     "name": "stdout",
     "output_type": "stream",
     "text": [
      "<class 'pandas.core.frame.DataFrame'>\n",
      "RangeIndex: 1827 entries, 0 to 1826\n",
      "Data columns (total 3 columns):\n",
      " #   Column         Non-Null Count  Dtype \n",
      "---  ------         --------------  ----- \n",
      " 0   prices         1827 non-null   object\n",
      " 1   market_caps    1827 non-null   object\n",
      " 2   total_volumes  1827 non-null   object\n",
      "dtypes: object(3)\n",
      "memory usage: 42.9+ KB\n"
     ]
    }
   ],
   "source": [
    "#Todos los archivos tienen la misma estructura. Solamente usd-coin es diferente: \n",
    "bitcoin.info()"
   ]
  },
  {
   "cell_type": "code",
   "execution_count": 93,
   "metadata": {},
   "outputs": [
    {
     "data": {
      "text/html": [
       "<div>\n",
       "<style scoped>\n",
       "    .dataframe tbody tr th:only-of-type {\n",
       "        vertical-align: middle;\n",
       "    }\n",
       "\n",
       "    .dataframe tbody tr th {\n",
       "        vertical-align: top;\n",
       "    }\n",
       "\n",
       "    .dataframe thead th {\n",
       "        text-align: right;\n",
       "    }\n",
       "</style>\n",
       "<table border=\"1\" class=\"dataframe\">\n",
       "  <thead>\n",
       "    <tr style=\"text-align: right;\">\n",
       "      <th></th>\n",
       "      <th>prices</th>\n",
       "      <th>market_caps</th>\n",
       "      <th>total_volumes</th>\n",
       "    </tr>\n",
       "  </thead>\n",
       "  <tbody>\n",
       "    <tr>\n",
       "      <th>0</th>\n",
       "      <td>[1534377600000, 6267.76870877378]</td>\n",
       "      <td>[1534377600000, 107788817699.53123]</td>\n",
       "      <td>[1534377600000, 6619548180.387301]</td>\n",
       "    </tr>\n",
       "    <tr>\n",
       "      <th>1</th>\n",
       "      <td>[1534464000000, 6309.385226218996]</td>\n",
       "      <td>[1534464000000, 108578823549.00035]</td>\n",
       "      <td>[1534464000000, 5982589406.965]</td>\n",
       "    </tr>\n",
       "    <tr>\n",
       "      <th>2</th>\n",
       "      <td>[1534550400000, 6566.715163377382]</td>\n",
       "      <td>[1534550400000, 113018605465.47177]</td>\n",
       "      <td>[1534550400000, 6206194158.951437]</td>\n",
       "    </tr>\n",
       "    <tr>\n",
       "      <th>3</th>\n",
       "      <td>[1534636800000, 6382.0605914076095]</td>\n",
       "      <td>[1534636800000, 109889851531.17278]</td>\n",
       "      <td>[1534636800000, 5616965845.869809]</td>\n",
       "    </tr>\n",
       "    <tr>\n",
       "      <th>4</th>\n",
       "      <td>[1534723200000, 6475.494019667379]</td>\n",
       "      <td>[1534723200000, 111490970656.3322]</td>\n",
       "      <td>[1534723200000, 5160365103.111909]</td>\n",
       "    </tr>\n",
       "  </tbody>\n",
       "</table>\n",
       "</div>"
      ],
      "text/plain": [
       "                                prices                          market_caps  \\\n",
       "0    [1534377600000, 6267.76870877378]  [1534377600000, 107788817699.53123]   \n",
       "1   [1534464000000, 6309.385226218996]  [1534464000000, 108578823549.00035]   \n",
       "2   [1534550400000, 6566.715163377382]  [1534550400000, 113018605465.47177]   \n",
       "3  [1534636800000, 6382.0605914076095]  [1534636800000, 109889851531.17278]   \n",
       "4   [1534723200000, 6475.494019667379]   [1534723200000, 111490970656.3322]   \n",
       "\n",
       "                        total_volumes  \n",
       "0  [1534377600000, 6619548180.387301]  \n",
       "1     [1534464000000, 5982589406.965]  \n",
       "2  [1534550400000, 6206194158.951437]  \n",
       "3  [1534636800000, 5616965845.869809]  \n",
       "4  [1534723200000, 5160365103.111909]  "
      ]
     },
     "execution_count": 93,
     "metadata": {},
     "output_type": "execute_result"
    }
   ],
   "source": [
    "bitcoin.head()"
   ]
  },
  {
   "cell_type": "markdown",
   "metadata": {},
   "source": [
    "Como podemos apreciar al mostrar las 5 primeras filas del dataframe bitcoin, las columnas con los datos presentan dos problemas:\n",
    "1) Están en forma de listas.\n",
    "2) El primer valor de cada lista es igual en todas las columnas y está en formato UNIX de unidades de tiempo. \n",
    "Lo que haremos será solucionar ambos problemas, extrayendo del formato UNIX cuatro columnas: datetime, year, month y day. Y eliminando el valor UNIX en cada columna, así como los corchetes. \n",
    "Como todos los datasets de las 10 monedas presentan estos problemas, realizaremos los cambios para todos los archivos. "
   ]
  },
  {
   "cell_type": "code",
   "execution_count": 94,
   "metadata": {},
   "outputs": [],
   "source": [
    "# Lista de nombres de los DataFrames\n",
    "dataframe_names = ['bitcoin', 'binancecoin', 'cardano', 'ethereum', 'chainlink', 'litecoin', 'ripple', 'stellar', 'tether', 'usdcoin']\n",
    "\n",
    "# Definir las transformaciones en funciones para reutilizarlas en el bucle\n",
    "def transform_datetime(df):\n",
    "    df['datetime'] = pd.to_datetime(df['prices'].apply(lambda x: x[0] // 1000), unit='s')\n",
    "    df['year'] = df['datetime'].dt.year\n",
    "    df['month'] = df['datetime'].dt.month\n",
    "    df['day'] = df['datetime'].dt.day\n",
    "    return df\n",
    "\n",
    "def transform_values(df):\n",
    "    df['prices'] = df['prices'].apply(lambda x: x[1])\n",
    "    df['market_caps'] = df['market_caps'].apply(lambda x: x[1])\n",
    "    df['total_volumes'] = df['total_volumes'].apply(lambda x: x[1])\n",
    "    return df\n",
    "\n",
    "# Iterar sobre la lista de nombres de los DataFrames y aplicar las transformaciones\n",
    "for dataframe_name in dataframe_names:\n",
    "    df = globals()[dataframe_name]  # Obtener el DataFrame por su nombre\n",
    "    df = transform_datetime(df)\n",
    "    df = transform_values(df)"
   ]
  },
  {
   "cell_type": "code",
   "execution_count": 95,
   "metadata": {},
   "outputs": [
    {
     "data": {
      "text/html": [
       "<div>\n",
       "<style scoped>\n",
       "    .dataframe tbody tr th:only-of-type {\n",
       "        vertical-align: middle;\n",
       "    }\n",
       "\n",
       "    .dataframe tbody tr th {\n",
       "        vertical-align: top;\n",
       "    }\n",
       "\n",
       "    .dataframe thead th {\n",
       "        text-align: right;\n",
       "    }\n",
       "</style>\n",
       "<table border=\"1\" class=\"dataframe\">\n",
       "  <thead>\n",
       "    <tr style=\"text-align: right;\">\n",
       "      <th></th>\n",
       "      <th>prices</th>\n",
       "      <th>market_caps</th>\n",
       "      <th>total_volumes</th>\n",
       "      <th>datetime</th>\n",
       "      <th>year</th>\n",
       "      <th>month</th>\n",
       "      <th>day</th>\n",
       "    </tr>\n",
       "  </thead>\n",
       "  <tbody>\n",
       "    <tr>\n",
       "      <th>0</th>\n",
       "      <td>281.141193</td>\n",
       "      <td>2.845771e+10</td>\n",
       "      <td>2.818580e+09</td>\n",
       "      <td>2018-08-16</td>\n",
       "      <td>2018</td>\n",
       "      <td>8</td>\n",
       "      <td>16</td>\n",
       "    </tr>\n",
       "    <tr>\n",
       "      <th>1</th>\n",
       "      <td>286.320221</td>\n",
       "      <td>2.901377e+10</td>\n",
       "      <td>2.409323e+09</td>\n",
       "      <td>2018-08-17</td>\n",
       "      <td>2018</td>\n",
       "      <td>8</td>\n",
       "      <td>17</td>\n",
       "    </tr>\n",
       "    <tr>\n",
       "      <th>2</th>\n",
       "      <td>314.793253</td>\n",
       "      <td>3.190058e+10</td>\n",
       "      <td>2.930410e+09</td>\n",
       "      <td>2018-08-18</td>\n",
       "      <td>2018</td>\n",
       "      <td>8</td>\n",
       "      <td>18</td>\n",
       "    </tr>\n",
       "    <tr>\n",
       "      <th>3</th>\n",
       "      <td>293.176992</td>\n",
       "      <td>2.973165e+10</td>\n",
       "      <td>2.806352e+09</td>\n",
       "      <td>2018-08-19</td>\n",
       "      <td>2018</td>\n",
       "      <td>8</td>\n",
       "      <td>19</td>\n",
       "    </tr>\n",
       "    <tr>\n",
       "      <th>4</th>\n",
       "      <td>299.435123</td>\n",
       "      <td>3.037346e+10</td>\n",
       "      <td>2.503897e+09</td>\n",
       "      <td>2018-08-20</td>\n",
       "      <td>2018</td>\n",
       "      <td>8</td>\n",
       "      <td>20</td>\n",
       "    </tr>\n",
       "  </tbody>\n",
       "</table>\n",
       "</div>"
      ],
      "text/plain": [
       "       prices   market_caps  total_volumes   datetime  year  month  day\n",
       "0  281.141193  2.845771e+10   2.818580e+09 2018-08-16  2018      8   16\n",
       "1  286.320221  2.901377e+10   2.409323e+09 2018-08-17  2018      8   17\n",
       "2  314.793253  3.190058e+10   2.930410e+09 2018-08-18  2018      8   18\n",
       "3  293.176992  2.973165e+10   2.806352e+09 2018-08-19  2018      8   19\n",
       "4  299.435123  3.037346e+10   2.503897e+09 2018-08-20  2018      8   20"
      ]
     },
     "execution_count": 95,
     "metadata": {},
     "output_type": "execute_result"
    }
   ],
   "source": [
    "#Mostramos los cambios realizados\n",
    "ethereum.head()"
   ]
  },
  {
   "cell_type": "markdown",
   "metadata": {},
   "source": [
    "Agregamos ahora dos columnas más para facilitar las operaciones, el análisis exploratorio y la visualización de datos:\n",
    "1) Una columna de id \n",
    "2) Una columna con el ticker(etiqueta de cotización) de cada criptomoneda"
   ]
  },
  {
   "cell_type": "code",
   "execution_count": 96,
   "metadata": {},
   "outputs": [],
   "source": [
    "#Listas de los id de las criptomonedas y de los tickers\n",
    "dataframe_names = ['bitcoin', 'binancecoin', 'cardano', 'ethereum', 'chainlink', 'litecoin', 'ripple', 'stellar', 'tether', 'usdcoin']\n",
    "tickers = ['BTC', 'BNB', 'ADA', 'ETH', 'LINK', 'LTC', 'XRP', 'XLM', 'USDT', 'USDC']\n",
    "\n",
    "# Iteramos sobre la lista de nombres de los DataFrames y agregamos las columnas \"id\" y \"tickers\"\n",
    "for dataframe_name, ticker in zip(dataframe_names, tickers):\n",
    "    df = globals()[dataframe_name]  # Obtener el DataFrame por su nombre\n",
    "    df['id'] = dataframe_name  # Agregar la columna \"id\" con el valor del nombre del DataFrame\n",
    "    df['ticker'] = ticker  # Agregar la columna \"tickers\" con el valor del ticker correspondiente"
   ]
  },
  {
   "cell_type": "code",
   "execution_count": 97,
   "metadata": {},
   "outputs": [
    {
     "data": {
      "text/html": [
       "<div>\n",
       "<style scoped>\n",
       "    .dataframe tbody tr th:only-of-type {\n",
       "        vertical-align: middle;\n",
       "    }\n",
       "\n",
       "    .dataframe tbody tr th {\n",
       "        vertical-align: top;\n",
       "    }\n",
       "\n",
       "    .dataframe thead th {\n",
       "        text-align: right;\n",
       "    }\n",
       "</style>\n",
       "<table border=\"1\" class=\"dataframe\">\n",
       "  <thead>\n",
       "    <tr style=\"text-align: right;\">\n",
       "      <th></th>\n",
       "      <th>prices</th>\n",
       "      <th>market_caps</th>\n",
       "      <th>total_volumes</th>\n",
       "      <th>datetime</th>\n",
       "      <th>year</th>\n",
       "      <th>month</th>\n",
       "      <th>day</th>\n",
       "      <th>id</th>\n",
       "      <th>ticker</th>\n",
       "    </tr>\n",
       "  </thead>\n",
       "  <tbody>\n",
       "    <tr>\n",
       "      <th>0</th>\n",
       "      <td>0.281680</td>\n",
       "      <td>1.106011e+10</td>\n",
       "      <td>3.408424e+08</td>\n",
       "      <td>2018-08-16</td>\n",
       "      <td>2018</td>\n",
       "      <td>8</td>\n",
       "      <td>16</td>\n",
       "      <td>ripple</td>\n",
       "      <td>XRP</td>\n",
       "    </tr>\n",
       "    <tr>\n",
       "      <th>1</th>\n",
       "      <td>0.292357</td>\n",
       "      <td>1.150398e+10</td>\n",
       "      <td>2.449694e+08</td>\n",
       "      <td>2018-08-17</td>\n",
       "      <td>2018</td>\n",
       "      <td>8</td>\n",
       "      <td>17</td>\n",
       "      <td>ripple</td>\n",
       "      <td>XRP</td>\n",
       "    </tr>\n",
       "    <tr>\n",
       "      <th>2</th>\n",
       "      <td>0.365943</td>\n",
       "      <td>1.439222e+10</td>\n",
       "      <td>5.258470e+08</td>\n",
       "      <td>2018-08-18</td>\n",
       "      <td>2018</td>\n",
       "      <td>8</td>\n",
       "      <td>18</td>\n",
       "      <td>ripple</td>\n",
       "      <td>XRP</td>\n",
       "    </tr>\n",
       "    <tr>\n",
       "      <th>3</th>\n",
       "      <td>0.326364</td>\n",
       "      <td>1.284835e+10</td>\n",
       "      <td>4.447622e+08</td>\n",
       "      <td>2018-08-19</td>\n",
       "      <td>2018</td>\n",
       "      <td>8</td>\n",
       "      <td>19</td>\n",
       "      <td>ripple</td>\n",
       "      <td>XRP</td>\n",
       "    </tr>\n",
       "    <tr>\n",
       "      <th>4</th>\n",
       "      <td>0.343703</td>\n",
       "      <td>1.353327e+10</td>\n",
       "      <td>3.411681e+08</td>\n",
       "      <td>2018-08-20</td>\n",
       "      <td>2018</td>\n",
       "      <td>8</td>\n",
       "      <td>20</td>\n",
       "      <td>ripple</td>\n",
       "      <td>XRP</td>\n",
       "    </tr>\n",
       "  </tbody>\n",
       "</table>\n",
       "</div>"
      ],
      "text/plain": [
       "     prices   market_caps  total_volumes   datetime  year  month  day      id  \\\n",
       "0  0.281680  1.106011e+10   3.408424e+08 2018-08-16  2018      8   16  ripple   \n",
       "1  0.292357  1.150398e+10   2.449694e+08 2018-08-17  2018      8   17  ripple   \n",
       "2  0.365943  1.439222e+10   5.258470e+08 2018-08-18  2018      8   18  ripple   \n",
       "3  0.326364  1.284835e+10   4.447622e+08 2018-08-19  2018      8   19  ripple   \n",
       "4  0.343703  1.353327e+10   3.411681e+08 2018-08-20  2018      8   20  ripple   \n",
       "\n",
       "  ticker  \n",
       "0    XRP  \n",
       "1    XRP  \n",
       "2    XRP  \n",
       "3    XRP  \n",
       "4    XRP  "
      ]
     },
     "execution_count": 97,
     "metadata": {},
     "output_type": "execute_result"
    }
   ],
   "source": [
    "# Mostramos el resultado de los cambios\n",
    "ripple.head()"
   ]
  },
  {
   "cell_type": "markdown",
   "metadata": {},
   "source": [
    "A continuación unimos los 10 datasets con los cambios realizados en uno solo."
   ]
  },
  {
   "cell_type": "code",
   "execution_count": 98,
   "metadata": {},
   "outputs": [],
   "source": [
    "# Lista de los dataframes que quieres unir\n",
    "dataframes_to_merge = [bitcoin, binancecoin, cardano, ethereum, chainlink, litecoin, ripple, stellar, tether, usdcoin]\n",
    "\n",
    "# Unir los dataframes usando el método pd.concat\n",
    "coins = pd.concat([df.copy() for df in dataframes_to_merge], ignore_index=True)\n"
   ]
  },
  {
   "cell_type": "code",
   "execution_count": 99,
   "metadata": {},
   "outputs": [
    {
     "name": "stdout",
     "output_type": "stream",
     "text": [
      "<class 'pandas.core.frame.DataFrame'>\n",
      "RangeIndex: 18219 entries, 0 to 18218\n",
      "Data columns (total 9 columns):\n",
      " #   Column         Non-Null Count  Dtype         \n",
      "---  ------         --------------  -----         \n",
      " 0   prices         18219 non-null  float64       \n",
      " 1   market_caps    18219 non-null  float64       \n",
      " 2   total_volumes  18219 non-null  float64       \n",
      " 3   datetime       18219 non-null  datetime64[ns]\n",
      " 4   year           18219 non-null  int32         \n",
      " 5   month          18219 non-null  int32         \n",
      " 6   day            18219 non-null  int32         \n",
      " 7   id             18219 non-null  object        \n",
      " 8   ticker         18219 non-null  object        \n",
      "dtypes: datetime64[ns](1), float64(3), int32(3), object(2)\n",
      "memory usage: 1.0+ MB\n"
     ]
    }
   ],
   "source": [
    "# Mostramos el dataset obtenido\n",
    "coins.info()"
   ]
  },
  {
   "cell_type": "code",
   "execution_count": 100,
   "metadata": {},
   "outputs": [
    {
     "data": {
      "text/html": [
       "<div>\n",
       "<style scoped>\n",
       "    .dataframe tbody tr th:only-of-type {\n",
       "        vertical-align: middle;\n",
       "    }\n",
       "\n",
       "    .dataframe tbody tr th {\n",
       "        vertical-align: top;\n",
       "    }\n",
       "\n",
       "    .dataframe thead th {\n",
       "        text-align: right;\n",
       "    }\n",
       "</style>\n",
       "<table border=\"1\" class=\"dataframe\">\n",
       "  <thead>\n",
       "    <tr style=\"text-align: right;\">\n",
       "      <th></th>\n",
       "      <th>prices</th>\n",
       "      <th>market_caps</th>\n",
       "      <th>total_volumes</th>\n",
       "      <th>datetime</th>\n",
       "      <th>year</th>\n",
       "      <th>month</th>\n",
       "      <th>day</th>\n",
       "      <th>id</th>\n",
       "      <th>ticker</th>\n",
       "    </tr>\n",
       "  </thead>\n",
       "  <tbody>\n",
       "    <tr>\n",
       "      <th>0</th>\n",
       "      <td>6267.768709</td>\n",
       "      <td>1.077888e+11</td>\n",
       "      <td>6.619548e+09</td>\n",
       "      <td>2018-08-16</td>\n",
       "      <td>2018</td>\n",
       "      <td>8</td>\n",
       "      <td>16</td>\n",
       "      <td>bitcoin</td>\n",
       "      <td>BTC</td>\n",
       "    </tr>\n",
       "    <tr>\n",
       "      <th>1</th>\n",
       "      <td>6309.385226</td>\n",
       "      <td>1.085788e+11</td>\n",
       "      <td>5.982589e+09</td>\n",
       "      <td>2018-08-17</td>\n",
       "      <td>2018</td>\n",
       "      <td>8</td>\n",
       "      <td>17</td>\n",
       "      <td>bitcoin</td>\n",
       "      <td>BTC</td>\n",
       "    </tr>\n",
       "    <tr>\n",
       "      <th>2</th>\n",
       "      <td>6566.715163</td>\n",
       "      <td>1.130186e+11</td>\n",
       "      <td>6.206194e+09</td>\n",
       "      <td>2018-08-18</td>\n",
       "      <td>2018</td>\n",
       "      <td>8</td>\n",
       "      <td>18</td>\n",
       "      <td>bitcoin</td>\n",
       "      <td>BTC</td>\n",
       "    </tr>\n",
       "    <tr>\n",
       "      <th>3</th>\n",
       "      <td>6382.060591</td>\n",
       "      <td>1.098899e+11</td>\n",
       "      <td>5.616966e+09</td>\n",
       "      <td>2018-08-19</td>\n",
       "      <td>2018</td>\n",
       "      <td>8</td>\n",
       "      <td>19</td>\n",
       "      <td>bitcoin</td>\n",
       "      <td>BTC</td>\n",
       "    </tr>\n",
       "    <tr>\n",
       "      <th>4</th>\n",
       "      <td>6475.494020</td>\n",
       "      <td>1.114910e+11</td>\n",
       "      <td>5.160365e+09</td>\n",
       "      <td>2018-08-20</td>\n",
       "      <td>2018</td>\n",
       "      <td>8</td>\n",
       "      <td>20</td>\n",
       "      <td>bitcoin</td>\n",
       "      <td>BTC</td>\n",
       "    </tr>\n",
       "  </tbody>\n",
       "</table>\n",
       "</div>"
      ],
      "text/plain": [
       "        prices   market_caps  total_volumes   datetime  year  month  day  \\\n",
       "0  6267.768709  1.077888e+11   6.619548e+09 2018-08-16  2018      8   16   \n",
       "1  6309.385226  1.085788e+11   5.982589e+09 2018-08-17  2018      8   17   \n",
       "2  6566.715163  1.130186e+11   6.206194e+09 2018-08-18  2018      8   18   \n",
       "3  6382.060591  1.098899e+11   5.616966e+09 2018-08-19  2018      8   19   \n",
       "4  6475.494020  1.114910e+11   5.160365e+09 2018-08-20  2018      8   20   \n",
       "\n",
       "        id ticker  \n",
       "0  bitcoin    BTC  \n",
       "1  bitcoin    BTC  \n",
       "2  bitcoin    BTC  \n",
       "3  bitcoin    BTC  \n",
       "4  bitcoin    BTC  "
      ]
     },
     "execution_count": 100,
     "metadata": {},
     "output_type": "execute_result"
    }
   ],
   "source": [
    "coins.head()"
   ]
  },
  {
   "cell_type": "code",
   "execution_count": 101,
   "metadata": {},
   "outputs": [],
   "source": [
    "coins.to_csv('data/coins.csv', index=False)"
   ]
  }
 ],
 "metadata": {
  "kernelspec": {
   "display_name": "venv",
   "language": "python",
   "name": "python3"
  },
  "language_info": {
   "codemirror_mode": {
    "name": "ipython",
    "version": 3
   },
   "file_extension": ".py",
   "mimetype": "text/x-python",
   "name": "python",
   "nbconvert_exporter": "python",
   "pygments_lexer": "ipython3",
   "version": "3.11.4"
  },
  "orig_nbformat": 4
 },
 "nbformat": 4,
 "nbformat_minor": 2
}
